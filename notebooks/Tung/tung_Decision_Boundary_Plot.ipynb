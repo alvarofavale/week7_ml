{
 "cells": [
  {
   "cell_type": "code",
   "execution_count": null,
   "metadata": {},
   "outputs": [],
   "source": [
    "import pandas as pd\n",
    "import numpy as np\n",
    "import matplotlib.pyplot as plt\n",
    "import seaborn as sns\n",
    "from sklearn.model_selection import train_test_split\n",
    "from sklearn.preprocessing import StandardScaler\n",
    "from sklearn.ensemble import RandomForestClassifier\n",
    "\n",
    "df_original = pd.read_csv(\"https://raw.githubusercontent.com/alvarofavale/week7_ml/refs/heads/main/data/raw/train.csv\")\n"
   ]
  },
  {
   "cell_type": "code",
   "execution_count": null,
   "metadata": {},
   "outputs": [],
   "source": [
    "df = df_original.copy()\n",
    "df.columns = df.columns.str.strip().str.lower().str.replace(\" \", \"_\")\n",
    "df.describe()"
   ]
  },
  {
   "cell_type": "code",
   "execution_count": null,
   "metadata": {},
   "outputs": [],
   "source": [
    "df.credit_score.unique()"
   ]
  },
  {
   "cell_type": "code",
   "execution_count": null,
   "metadata": {},
   "outputs": [],
   "source": [
    "df.dropna(inplace=True)\n",
    "df.columns"
   ]
  },
  {
   "cell_type": "code",
   "execution_count": null,
   "metadata": {},
   "outputs": [],
   "source": [
    "# Step 1: Get the unique customer IDs\n",
    "unique_customer_ids = df['customer_id'].unique()\n",
    "\n",
    "# Step 2: Randomly sample 1000 unique customer IDs\n",
    "sampled_customer_ids = np.random.choice(unique_customer_ids, size=1000, replace=False)\n",
    "\n",
    "# Step 3: Filter the DataFrame to include only the rows with the sampled customer IDs\n",
    "df_random_1000_clients = df[df['customer_id'].isin(sampled_customer_ids)]\n",
    "\n",
    "# Display the resulting DataFrame\n",
    "df_random_1000_clients.head()\n"
   ]
  },
  {
   "cell_type": "code",
   "execution_count": null,
   "metadata": {},
   "outputs": [],
   "source": [
    "# Select relevant features for the model (use numerical features for simplicity)\n",
    "X = df_random_1000_clients[['annual_income', 'outstanding_debt']]  # Use 'annual_income' and 'outstanding_debt' as features\n",
    "y = df_random_1000_clients['credit_score']  # Target variable is 'credit_score'\n",
    "\n",
    "# Encoding 'credit_score' if it is categorical (e.g., Good = 0, Standard = 1, Bad = 2)\n",
    "y = y.replace({'Good': 0, 'Standard': 1, 'Poor': 2})\n",
    "\n",
    "# Split the data into training and testing sets\n",
    "X_train, X_test, y_train, y_test = train_test_split(X, y, test_size=0.3, random_state=42)\n",
    "\n",
    "# Standardize the features\n",
    "scaler = StandardScaler()\n",
    "X_train_scaled = scaler.fit_transform(X_train)\n",
    "X_test_scaled = scaler.transform(X_test)\n",
    "\n",
    "# Train a RandomForestClassifier\n",
    "clf = RandomForestClassifier(n_estimators=100, random_state=42)\n",
    "clf.fit(X_train_scaled, y_train)\n",
    "\n",
    "# Create a meshgrid for decision boundaries\n",
    "x_min, x_max = X['annual_income'].min() - 1000, X['annual_income'].max() + 1000\n",
    "y_min, y_max = X['outstanding_debt'].min() - 1000, X['outstanding_debt'].max() + 1000\n",
    "xx, yy = np.meshgrid(np.arange(x_min, x_max, 500),\n",
    "                     np.arange(y_min, y_max, 500))\n",
    "\n",
    "# Predict the class for each point in the grid\n",
    "Z = clf.predict(scaler.transform(np.c_[xx.ravel(), yy.ravel()]))\n",
    "Z = Z.reshape(xx.shape)\n",
    "\n",
    "# Plotting\n",
    "plt.figure(figsize=(10, 6))\n",
    "\n",
    "# Plot the decision boundary\n",
    "plt.contourf(xx, yy, Z, alpha=0.3, cmap=plt.cm.RdYlGn)  # Adjust colors for each class (Good, Standard, Bad)\n",
    "\n",
    "# Plot the actual data points\n",
    "sns.scatterplot(x='annual_income', y='outstanding_debt', hue='credit_score', data=df_random_1000_clients, palette={ 0: 'green', 1: 'yellow', 2: 'red'},\n",
    "                s=100, edgecolor='black')\n",
    "\n",
    "# Customize the plot\n",
    "plt.title('Decision Boundary for Credit Score Prediction')\n",
    "plt.xlabel('Annual Income')\n",
    "plt.ylabel('Outstanding Debt')\n",
    "plt.legend(title='Credit Score', labels=['Good', 'Standard', 'Poor'])\n",
    "\n",
    "plt.show()\n"
   ]
  },
  {
   "cell_type": "code",
   "execution_count": null,
   "metadata": {},
   "outputs": [],
   "source": [
    "# First, check the unique values in the credit_score column to make sure\n",
    "print(df['credit_score'].unique())\n",
    "\n",
    "# Assuming the output is ['Good', 'Standard', 'Bad']\n",
    "# Adjust your color mapping accordingly:\n",
    "color_palette = {'Good': 'green', 'Standard': 'yellow', 'Poor': 'red'}\n",
    "\n",
    "# Now, create the scatter plot with the correct palette\n",
    "sns.scatterplot(x='annual_income', y='outstanding_debt', hue='credit_score', data=dfc, palette=color_palette,\n",
    "                s=100, edgecolor='black')\n",
    "\n",
    "# Customize the plot\n",
    "plt.title('Decision Boundary for Credit Score Prediction')\n",
    "plt.xlabel('Annual Income')\n",
    "plt.ylabel('Outstanding Debt')\n",
    "plt.legend(title='Credit Score')\n",
    "\n",
    "plt.show()\n"
   ]
  },
  {
   "cell_type": "code",
   "execution_count": null,
   "metadata": {},
   "outputs": [],
   "source": [
    "df.credit_score.unique()"
   ]
  }
 ],
 "metadata": {
  "kernelspec": {
   "display_name": "Python 3",
   "language": "python",
   "name": "python3"
  },
  "language_info": {
   "codemirror_mode": {
    "name": "ipython",
    "version": 3
   },
   "file_extension": ".py",
   "mimetype": "text/x-python",
   "name": "python",
   "nbconvert_exporter": "python",
   "pygments_lexer": "ipython3",
   "version": "3.12.6"
  }
 },
 "nbformat": 4,
 "nbformat_minor": 2
}
